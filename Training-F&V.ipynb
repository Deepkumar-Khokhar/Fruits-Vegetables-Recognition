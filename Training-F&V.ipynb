{
 "cells": [
  {
   "cell_type": "code",
   "execution_count": 9,
   "id": "73298e41",
   "metadata": {},
   "outputs": [],
   "source": [
    "import numpy as np\n",
    "import tensorflow as tf\n",
    "import matplotlib.pyplot as plt"
   ]
  },
  {
   "cell_type": "code",
   "execution_count": 10,
   "id": "990384c0",
   "metadata": {},
   "outputs": [
    {
     "name": "stdout",
     "output_type": "stream",
     "text": [
      "Found 3115 files belonging to 36 classes.\n"
     ]
    }
   ],
   "source": [
    "training_set = tf.keras.utils.image_dataset_from_directory(\n",
    "    r'C:\\Users\\Lenovo\\Desktop\\F&V\\train',\n",
    "    labels=\"inferred\",\n",
    "    label_mode=\"categorical\",\n",
    "    class_names=None,\n",
    "    color_mode=\"rgb\",\n",
    "    batch_size=32,\n",
    "    image_size=(64, 64),\n",
    "    shuffle=True,\n",
    "    seed=None,\n",
    "    validation_split=None,\n",
    "    subset=None,\n",
    "    interpolation=\"bilinear\",\n",
    "    follow_links=False,\n",
    "    crop_to_aspect_ratio=False,\n",
    ")"
   ]
  },
  {
   "cell_type": "code",
   "execution_count": 11,
   "id": "fc9eb9ae",
   "metadata": {},
   "outputs": [
    {
     "name": "stdout",
     "output_type": "stream",
     "text": [
      "Found 359 files belonging to 36 classes.\n"
     ]
    }
   ],
   "source": [
    "validation_set = tf.keras.utils.image_dataset_from_directory(\n",
    "    r'C:\\Users\\Lenovo\\Desktop\\F&V\\test',\n",
    "    labels=\"inferred\",\n",
    "    label_mode=\"categorical\",\n",
    "    class_names=None,\n",
    "    color_mode=\"rgb\",\n",
    "    batch_size=32,\n",
    "    image_size=(64, 64),\n",
    "    shuffle=True,\n",
    "    seed=None,\n",
    "    validation_split=None,\n",
    "    subset=None,\n",
    "    interpolation=\"bilinear\",\n",
    "    follow_links=False,\n",
    "    crop_to_aspect_ratio=False,\n",
    ")"
   ]
  },
  {
   "cell_type": "code",
   "execution_count": 12,
   "id": "dde0f0af",
   "metadata": {},
   "outputs": [],
   "source": [
    "cnn = tf.keras.models.Sequential()"
   ]
  },
  {
   "cell_type": "code",
   "execution_count": 13,
   "id": "90f1c4a1",
   "metadata": {},
   "outputs": [],
   "source": [
    "cnn.add(tf.keras.layers.Conv2D(filters=64,kernel_size=3,activation='relu',input_shape=[64,64,3]))\n",
    "cnn.add(tf.keras.layers.MaxPool2D(pool_size=2,strides=2))"
   ]
  },
  {
   "cell_type": "code",
   "execution_count": 14,
   "id": "f5065987",
   "metadata": {},
   "outputs": [],
   "source": [
    "cnn.add(tf.keras.layers.Conv2D(filters=64,kernel_size=3,activation='relu'))\n",
    "cnn.add(tf.keras.layers.MaxPool2D(pool_size=2,strides=2))"
   ]
  },
  {
   "cell_type": "code",
   "execution_count": 15,
   "id": "f165e6c7",
   "metadata": {},
   "outputs": [],
   "source": [
    "cnn.add(tf.keras.layers.Dropout(0.5))"
   ]
  },
  {
   "cell_type": "code",
   "execution_count": 16,
   "id": "af052458",
   "metadata": {},
   "outputs": [],
   "source": [
    "cnn.add(tf.keras.layers.Flatten())"
   ]
  },
  {
   "cell_type": "code",
   "execution_count": 17,
   "id": "4b22583e",
   "metadata": {},
   "outputs": [],
   "source": [
    "cnn.add(tf.keras.layers.Dense(units=128,activation='relu'))"
   ]
  },
  {
   "cell_type": "code",
   "execution_count": 18,
   "id": "a70357ea",
   "metadata": {},
   "outputs": [],
   "source": [
    "cnn.add(tf.keras.layers.Dense(units=36,activation='softmax'))"
   ]
  },
  {
   "cell_type": "code",
   "execution_count": 19,
   "id": "f52ddc75",
   "metadata": {},
   "outputs": [],
   "source": [
    "cnn.compile(optimizer='rmsprop',loss='categorical_crossentropy',metrics=['accuracy'])"
   ]
  },
  {
   "cell_type": "code",
   "execution_count": 20,
   "id": "7186cc0c",
   "metadata": {},
   "outputs": [
    {
     "name": "stdout",
     "output_type": "stream",
     "text": [
      "Epoch 1/30\n",
      "98/98 [==============================] - 93s 852ms/step - loss: 9.7216 - accuracy: 0.0408 - val_loss: 3.4888 - val_accuracy: 0.1170\n",
      "Epoch 2/30\n",
      "98/98 [==============================] - 54s 517ms/step - loss: 4.3119 - accuracy: 0.0639 - val_loss: 3.3269 - val_accuracy: 0.1365\n",
      "Epoch 3/30\n",
      "98/98 [==============================] - 52s 505ms/step - loss: 3.7750 - accuracy: 0.1066 - val_loss: 2.9949 - val_accuracy: 0.2730\n",
      "Epoch 4/30\n",
      "98/98 [==============================] - 60s 586ms/step - loss: 3.4826 - accuracy: 0.1785 - val_loss: 2.8546 - val_accuracy: 0.2925\n",
      "Epoch 5/30\n",
      "98/98 [==============================] - 58s 556ms/step - loss: 3.6720 - accuracy: 0.2151 - val_loss: 2.1762 - val_accuracy: 0.4763\n",
      "Epoch 6/30\n",
      "98/98 [==============================] - 58s 559ms/step - loss: 3.0727 - accuracy: 0.2963 - val_loss: 3.2127 - val_accuracy: 0.3370\n",
      "Epoch 7/30\n",
      "98/98 [==============================] - 58s 560ms/step - loss: 2.9527 - accuracy: 0.3701 - val_loss: 1.8807 - val_accuracy: 0.6128\n",
      "Epoch 8/30\n",
      "98/98 [==============================] - 58s 554ms/step - loss: 2.4221 - accuracy: 0.4173 - val_loss: 1.4678 - val_accuracy: 0.6825\n",
      "Epoch 9/30\n",
      "98/98 [==============================] - 57s 558ms/step - loss: 2.1658 - accuracy: 0.4751 - val_loss: 1.7103 - val_accuracy: 0.6602\n",
      "Epoch 10/30\n",
      "98/98 [==============================] - 56s 546ms/step - loss: 2.1778 - accuracy: 0.5178 - val_loss: 2.2752 - val_accuracy: 0.5850\n",
      "Epoch 11/30\n",
      "98/98 [==============================] - 57s 563ms/step - loss: 2.2413 - accuracy: 0.5563 - val_loss: 1.4719 - val_accuracy: 0.7827\n",
      "Epoch 12/30\n",
      "98/98 [==============================] - 56s 548ms/step - loss: 1.7603 - accuracy: 0.6180 - val_loss: 1.6056 - val_accuracy: 0.6880\n",
      "Epoch 13/30\n",
      "98/98 [==============================] - 66s 638ms/step - loss: 1.7889 - accuracy: 0.6254 - val_loss: 1.4118 - val_accuracy: 0.8022\n",
      "Epoch 14/30\n",
      "98/98 [==============================] - 65s 624ms/step - loss: 1.6082 - accuracy: 0.6465 - val_loss: 1.5276 - val_accuracy: 0.7855\n",
      "Epoch 15/30\n",
      "98/98 [==============================] - 64s 613ms/step - loss: 1.4222 - accuracy: 0.6812 - val_loss: 1.4739 - val_accuracy: 0.7939\n",
      "Epoch 16/30\n",
      "98/98 [==============================] - 64s 620ms/step - loss: 1.5695 - accuracy: 0.6970 - val_loss: 1.1917 - val_accuracy: 0.8412\n",
      "Epoch 17/30\n",
      "98/98 [==============================] - 66s 640ms/step - loss: 1.3634 - accuracy: 0.7143 - val_loss: 1.5215 - val_accuracy: 0.8078\n",
      "Epoch 18/30\n",
      "98/98 [==============================] - 66s 640ms/step - loss: 1.2347 - accuracy: 0.7307 - val_loss: 1.2346 - val_accuracy: 0.8440\n",
      "Epoch 19/30\n",
      "98/98 [==============================] - 66s 639ms/step - loss: 1.1809 - accuracy: 0.7567 - val_loss: 1.3909 - val_accuracy: 0.8273\n",
      "Epoch 20/30\n",
      "98/98 [==============================] - 60s 572ms/step - loss: 1.1462 - accuracy: 0.7541 - val_loss: 1.4979 - val_accuracy: 0.7855\n",
      "Epoch 21/30\n",
      "98/98 [==============================] - 62s 604ms/step - loss: 1.2042 - accuracy: 0.7711 - val_loss: 1.0648 - val_accuracy: 0.8607\n",
      "Epoch 22/30\n",
      "98/98 [==============================] - 65s 623ms/step - loss: 1.1540 - accuracy: 0.7878 - val_loss: 0.9625 - val_accuracy: 0.8607\n",
      "Epoch 23/30\n",
      "98/98 [==============================] - 63s 609ms/step - loss: 1.1250 - accuracy: 0.8144 - val_loss: 1.4012 - val_accuracy: 0.8802\n",
      "Epoch 24/30\n",
      "98/98 [==============================] - 65s 629ms/step - loss: 1.0087 - accuracy: 0.8067 - val_loss: 1.3142 - val_accuracy: 0.8914\n",
      "Epoch 25/30\n",
      "98/98 [==============================] - 66s 636ms/step - loss: 0.9586 - accuracy: 0.8103 - val_loss: 1.3280 - val_accuracy: 0.9109\n",
      "Epoch 26/30\n",
      "98/98 [==============================] - 59s 570ms/step - loss: 1.0252 - accuracy: 0.8247 - val_loss: 1.3900 - val_accuracy: 0.9443\n",
      "Epoch 27/30\n",
      "98/98 [==============================] - 54s 521ms/step - loss: 0.9113 - accuracy: 0.8360 - val_loss: 1.5482 - val_accuracy: 0.9248\n",
      "Epoch 28/30\n",
      "98/98 [==============================] - 57s 555ms/step - loss: 0.8617 - accuracy: 0.8340 - val_loss: 1.3073 - val_accuracy: 0.9331\n",
      "Epoch 29/30\n",
      "98/98 [==============================] - 65s 626ms/step - loss: 0.9109 - accuracy: 0.8449 - val_loss: 1.2297 - val_accuracy: 0.9220\n",
      "Epoch 30/30\n",
      "98/98 [==============================] - 57s 549ms/step - loss: 0.9318 - accuracy: 0.8472 - val_loss: 1.4203 - val_accuracy: 0.9192\n"
     ]
    }
   ],
   "source": [
    "train_model = cnn.fit(x=training_set,validation_data = validation_set,epochs=30)"
   ]
  },
  {
   "cell_type": "code",
   "execution_count": 21,
   "id": "77a4ddfa",
   "metadata": {},
   "outputs": [
    {
     "name": "stderr",
     "output_type": "stream",
     "text": [
      "E:\\Important\\lib\\site-packages\\keras\\src\\engine\\training.py:3000: UserWarning: You are saving your model as an HDF5 file via `model.save()`. This file format is considered legacy. We recommend using instead the native Keras format, e.g. `model.save('my_model.keras')`.\n",
      "  saving_api.save_model(\n"
     ]
    }
   ],
   "source": [
    "cnn.save('trained_model.h5')"
   ]
  },
  {
   "cell_type": "code",
   "execution_count": 29,
   "id": "288b9869",
   "metadata": {},
   "outputs": [
    {
     "ename": "AttributeError",
     "evalue": "'History' object has no attribute 'save'",
     "output_type": "error",
     "traceback": [
      "\u001b[1;31m---------------------------------------------------------------------------\u001b[0m",
      "\u001b[1;31mAttributeError\u001b[0m                            Traceback (most recent call last)",
      "Cell \u001b[1;32mIn[29], line 1\u001b[0m\n\u001b[1;32m----> 1\u001b[0m \u001b[43mtrain_model\u001b[49m\u001b[38;5;241;43m.\u001b[39;49m\u001b[43msave\u001b[49m(\u001b[38;5;124m'\u001b[39m\u001b[38;5;124msave.h5\u001b[39m\u001b[38;5;124m'\u001b[39m)\n",
      "\u001b[1;31mAttributeError\u001b[0m: 'History' object has no attribute 'save'"
     ]
    }
   ],
   "source": [
    "train_model.save('save.h5')"
   ]
  },
  {
   "cell_type": "code",
   "execution_count": 22,
   "id": "2ee62a48",
   "metadata": {},
   "outputs": [],
   "source": [
    "import json\n",
    "with open('train_model.json','w') as f:\n",
    "    json.dump(train_model.history,f)"
   ]
  },
  {
   "cell_type": "code",
   "execution_count": 23,
   "id": "04ed684b",
   "metadata": {},
   "outputs": [
    {
     "name": "stdout",
     "output_type": "stream",
     "text": [
      "dict_keys(['loss', 'accuracy', 'val_loss', 'val_accuracy'])\n"
     ]
    }
   ],
   "source": [
    "print(train_model.history.keys())"
   ]
  },
  {
   "cell_type": "code",
   "execution_count": 24,
   "id": "59d20398",
   "metadata": {},
   "outputs": [
    {
     "data": {
      "text/plain": [
       "0.9192200303077698"
      ]
     },
     "execution_count": 24,
     "metadata": {},
     "output_type": "execute_result"
    }
   ],
   "source": [
    "train_model.history['val_accuracy'][-1]"
   ]
  },
  {
   "cell_type": "code",
   "execution_count": 28,
   "id": "855fd57e",
   "metadata": {},
   "outputs": [
    {
     "name": "stdout",
     "output_type": "stream",
     "text": [
      "validation set accuracy: 91.92200303077698 %\n"
     ]
    }
   ],
   "source": [
    "print(\"validation set accuracy: {} %\".format(train_model.history['val_accuracy'][-1]*100))"
   ]
  },
  {
   "cell_type": "code",
   "execution_count": 30,
   "id": "e4772b55",
   "metadata": {},
   "outputs": [
    {
     "data": {
      "text/plain": [
       "Text(0, 0.5, 'Training Accuracy')"
      ]
     },
     "execution_count": 30,
     "metadata": {},
     "output_type": "execute_result"
    },
    {
     "data": {
      "image/png": "[encoded data removed]",
      "text/plain": [
       "<Figure size 640x480 with 1 Axes>"
      ]
     },
     "metadata": {},
     "output_type": "display_data"
    }
   ],
   "source": [
    "epochs = [i for i in range(1,31)]\n",
    "plt.plot(epochs,train_model.history['accuracy'],color='red')\n",
    "plt.xlabel('Epochs')\n",
    "plt.ylabel('Training Accuracy')"
   ]
  },
  {
   "cell_type": "code",
   "execution_count": null,
   "id": "c5701b0b",
   "metadata": {},
   "outputs": [],
   "source": []
  }
 ],
 "metadata": {
  "kernelspec": {
   "display_name": "Python 3 (ipykernel)",
   "language": "python",
   "name": "python3"
  },
  "language_info": {
   "codemirror_mode": {
    "name": "ipython",
    "version": 3
   },
   "file_extension": ".py",
   "mimetype": "text/x-python",
   "name": "python",
   "nbconvert_exporter": "python",
   "pygments_lexer": "ipython3",
   "version": "3.10.9"
  }
 },
 "nbformat": 4,
 "nbformat_minor": 5
}
